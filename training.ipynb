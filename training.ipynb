{
 "cells": [
  {
   "cell_type": "markdown",
   "metadata": {},
   "source": [
    "# MlFlow implementation for autogluon\n",
    "**Objetive:** track and registre autogluon predictors using mlflow"
   ]
  },
  {
   "cell_type": "code",
   "execution_count": 45,
   "metadata": {},
   "outputs": [],
   "source": [
    "import pandas as pd\n",
    "import numpy as np\n",
    "import matplotlib.pyplot as plt\n",
    "import seaborn as sns\n",
    "import helper_functions.ploting as hpf\n",
    "import helper_functions.modeling as hmf\n",
    "import importlib\n",
    "\n",
    "import mlflow\n",
    "from mlflow.data.pandas_dataset import PandasDataset\n",
    "\n",
    "from autogluon.tabular import TabularDataset, TabularPredictor\n",
    "\n",
    "\n",
    "try:\n",
    "    importlib.reload(hpf)\n",
    "    importlib.reload(hmf)\n",
    "except Exception as e: \n",
    "    print(f'Error reloading module: {e}')"
   ]
  },
  {
   "cell_type": "markdown",
   "metadata": {},
   "source": [
    "## Initialize experiment variables"
   ]
  },
  {
   "cell_type": "code",
   "execution_count": 22,
   "metadata": {},
   "outputs": [
    {
     "data": {
      "text/plain": [
       "{'target_var': 'charges',\n",
       " 'preset_mode': 'medium_quality',\n",
       " 'time_limit': 600,\n",
       " 'outlier_drop': True,\n",
       " 'autogluon_path': './charges_autogluon/medium_quality'}"
      ]
     },
     "metadata": {},
     "output_type": "display_data"
    }
   ],
   "source": [
    "# init\n",
    "target_var = \"charges\"\n",
    "preset_mode = 'medium_quality'\n",
    "time_limit = 60 * 10 # 10 minutes in seconds\n",
    "outlier_drop = True\n",
    "autogluon_path = f'./{target_var}_autogluon/{preset_mode}'\n",
    "\n",
    "init_values = {\n",
    "    'target_var': target_var,\n",
    "    'preset_mode': preset_mode,\n",
    "    'time_limit': time_limit,\n",
    "    'outlier_drop': outlier_drop,\n",
    "    'autogluon_path': autogluon_path\n",
    "}\n",
    "\n",
    "display(init_values)\n"
   ]
  },
  {
   "cell_type": "markdown",
   "metadata": {},
   "source": [
    "# Load Data"
   ]
  },
  {
   "cell_type": "code",
   "execution_count": 23,
   "metadata": {},
   "outputs": [
    {
     "data": {
      "application/vnd.microsoft.datawrangler.viewer.v0+json": {
       "columns": [
        {
         "name": "index",
         "rawType": "int64",
         "type": "integer"
        },
        {
         "name": "age",
         "rawType": "int64",
         "type": "integer"
        },
        {
         "name": "sex",
         "rawType": "object",
         "type": "string"
        },
        {
         "name": "bmi",
         "rawType": "float64",
         "type": "float"
        },
        {
         "name": "children",
         "rawType": "int64",
         "type": "integer"
        },
        {
         "name": "smoker",
         "rawType": "object",
         "type": "string"
        },
        {
         "name": "region",
         "rawType": "object",
         "type": "string"
        },
        {
         "name": "charges",
         "rawType": "float64",
         "type": "float"
        }
       ],
       "conversionMethod": "pd.DataFrame",
       "ref": "1098911b-a659-41a4-aad7-14eda9f6f669",
       "rows": [
        [
         "0",
         "63",
         "male",
         "41.47",
         "0",
         "no",
         "southeast",
         "13405.3903"
        ],
        [
         "1",
         "37",
         "female",
         "34.8",
         "2",
         "yes",
         "southwest",
         "39836.519"
        ],
        [
         "2",
         "18",
         "male",
         "31.73",
         "0",
         "yes",
         "northeast",
         "33732.6867"
        ],
        [
         "3",
         "19",
         "male",
         "20.425",
         "0",
         "no",
         "northwest",
         "1625.43375"
        ],
        [
         "4",
         "56",
         "male",
         "34.43",
         "0",
         "no",
         "southeast",
         "10594.2257"
        ]
       ],
       "shape": {
        "columns": 7,
        "rows": 5
       }
      },
      "text/html": [
       "<div>\n",
       "<style scoped>\n",
       "    .dataframe tbody tr th:only-of-type {\n",
       "        vertical-align: middle;\n",
       "    }\n",
       "\n",
       "    .dataframe tbody tr th {\n",
       "        vertical-align: top;\n",
       "    }\n",
       "\n",
       "    .dataframe thead th {\n",
       "        text-align: right;\n",
       "    }\n",
       "</style>\n",
       "<table border=\"1\" class=\"dataframe\">\n",
       "  <thead>\n",
       "    <tr style=\"text-align: right;\">\n",
       "      <th></th>\n",
       "      <th>age</th>\n",
       "      <th>sex</th>\n",
       "      <th>bmi</th>\n",
       "      <th>children</th>\n",
       "      <th>smoker</th>\n",
       "      <th>region</th>\n",
       "      <th>charges</th>\n",
       "    </tr>\n",
       "  </thead>\n",
       "  <tbody>\n",
       "    <tr>\n",
       "      <th>0</th>\n",
       "      <td>63</td>\n",
       "      <td>male</td>\n",
       "      <td>41.470</td>\n",
       "      <td>0</td>\n",
       "      <td>no</td>\n",
       "      <td>southeast</td>\n",
       "      <td>13405.39030</td>\n",
       "    </tr>\n",
       "    <tr>\n",
       "      <th>1</th>\n",
       "      <td>37</td>\n",
       "      <td>female</td>\n",
       "      <td>34.800</td>\n",
       "      <td>2</td>\n",
       "      <td>yes</td>\n",
       "      <td>southwest</td>\n",
       "      <td>39836.51900</td>\n",
       "    </tr>\n",
       "    <tr>\n",
       "      <th>2</th>\n",
       "      <td>18</td>\n",
       "      <td>male</td>\n",
       "      <td>31.730</td>\n",
       "      <td>0</td>\n",
       "      <td>yes</td>\n",
       "      <td>northeast</td>\n",
       "      <td>33732.68670</td>\n",
       "    </tr>\n",
       "    <tr>\n",
       "      <th>3</th>\n",
       "      <td>19</td>\n",
       "      <td>male</td>\n",
       "      <td>20.425</td>\n",
       "      <td>0</td>\n",
       "      <td>no</td>\n",
       "      <td>northwest</td>\n",
       "      <td>1625.43375</td>\n",
       "    </tr>\n",
       "    <tr>\n",
       "      <th>4</th>\n",
       "      <td>56</td>\n",
       "      <td>male</td>\n",
       "      <td>34.430</td>\n",
       "      <td>0</td>\n",
       "      <td>no</td>\n",
       "      <td>southeast</td>\n",
       "      <td>10594.22570</td>\n",
       "    </tr>\n",
       "  </tbody>\n",
       "</table>\n",
       "</div>"
      ],
      "text/plain": [
       "   age     sex     bmi  children smoker     region      charges\n",
       "0   63    male  41.470         0     no  southeast  13405.39030\n",
       "1   37  female  34.800         2    yes  southwest  39836.51900\n",
       "2   18    male  31.730         0    yes  northeast  33732.68670\n",
       "3   19    male  20.425         0     no  northwest   1625.43375\n",
       "4   56    male  34.430         0     no  southeast  10594.22570"
      ]
     },
     "execution_count": 23,
     "metadata": {},
     "output_type": "execute_result"
    }
   ],
   "source": [
    "# read data\n",
    "train_df = pd.read_csv('data/train.csv')\n",
    "test_df = pd.read_csv('data/test.csv')\n",
    "train_df.head()\n"
   ]
  },
  {
   "cell_type": "markdown",
   "metadata": {},
   "source": [
    "## Quick EDA"
   ]
  },
  {
   "cell_type": "code",
   "execution_count": 24,
   "metadata": {},
   "outputs": [
    {
     "data": {
      "image/png": "[encoded data removed]",
      "text/plain": [
       "<Figure size 1000x300 with 1 Axes>"
      ]
     },
     "metadata": {},
     "output_type": "display_data"
    },
    {
     "data": {
      "image/png": "[encoded data removed]",
      "text/plain": [
       "<Figure size 1000x300 with 1 Axes>"
      ]
     },
     "metadata": {},
     "output_type": "display_data"
    },
    {
     "data": {
      "image/png": "[encoded data removed]",
      "text/plain": [
       "<Figure size 1200x710 with 2 Axes>"
      ]
     },
     "metadata": {},
     "output_type": "display_data"
    },
    {
     "name": "stdout",
     "output_type": "stream",
     "text": [
      "Original Shape: (1003, 7)\n",
      "Outlier Drop Shape: (997, 7)\n"
     ]
    }
   ],
   "source": [
    "hpf.get_target_distribution(train_df, target_var)\n",
    "hpf.get_target_distribution(hmf.get_outlier_drop(train_df,target_var), target_var)\n",
    "hpf.mixed_correlation_heatmap(train_df, annot=True, encode=False, target=target_var, figsize=(12,7.1))\n",
    "\n",
    "print('Original Shape:', train_df.shape)\n",
    "print('Outlier Drop Shape:', hmf.get_outlier_drop(train_df, target_var).shape)"
   ]
  },
  {
   "cell_type": "markdown",
   "metadata": {},
   "source": [
    "## Modeling"
   ]
  },
  {
   "cell_type": "code",
   "execution_count": 43,
   "metadata": {},
   "outputs": [
    {
     "name": "stderr",
     "output_type": "stream",
     "text": [
      "/Users/delfosg/Documents/aoutgluon-mlflow-integration/venv/lib/python3.12/site-packages/mlflow/pyfunc/utils/data_validation.py:155: FutureWarning: Model's `predict` method contains invalid parameters: {'X'}. Only the following parameter names are allowed: context, model_input, and params. Note that invalid parameters will no longer be permitted in future versions.\n",
      "  param_names = _check_func_signature(func, \"predict\")\n",
      "/Users/delfosg/Documents/aoutgluon-mlflow-integration/venv/lib/python3.12/site-packages/mlflow/pyfunc/utils/data_validation.py:186: UserWarning: \u001b[33mAdd type hints to the `predict` method to enable data validation and automatic signature inference during model logging. Check https://mlflow.org/docs/latest/model/python_model.html#type-hint-usage-in-pythonmodel for more details.\u001b[0m\n",
      "  color_warning(\n"
     ]
    }
   ],
   "source": [
    "\n",
    "class AutogluonWrapper(mlflow.pyfunc.PythonModel):\n",
    "    def __init__(self, predictor, feature_names, model_name):\n",
    "        self.ag_model = predictor\n",
    "        self.feature_names = feature_names\n",
    "        self.model_name = model_name\n",
    "\n",
    "    def predict(self, X):\n",
    "        if isinstance(X, pd.Series):\n",
    "            X = X.values.reshape(1,-1)\n",
    "        if not isinstance(X, pd.DataFrame):\n",
    "            X = pd.DataFrame(X, columns=self.feature_names)\n",
    "        return self.ag_model.predict(X, model= self.model_name)"
   ]
  },
  {
   "cell_type": "code",
   "execution_count": 26,
   "metadata": {},
   "outputs": [],
   "source": [
    "# (X,Y) split\n",
    "x_train = train_df.drop(columns=[target_var])\n",
    "y_train = train_df[target_var]\n",
    "x_test = test_df.drop(columns=[target_var])\n",
    "y_test = test_df[target_var]\n",
    "\n",
    "# mlflow data format\n",
    "dataset_train : PandasDataset = mlflow.data.from_pandas(train_df, name = \"train\")\n",
    "dataset_test : PandasDataset = mlflow.data.from_pandas(test_df, name = \"test\")"
   ]
  },
  {
   "cell_type": "code",
   "execution_count": 8,
   "metadata": {},
   "outputs": [
    {
     "data": {
      "text/plain": [
       "{'target_var': 'charges',\n",
       " 'preset_mode': 'medium_quality',\n",
       " 'time_limit': 600,\n",
       " 'outlier_drop': True,\n",
       " 'autogluon_path': './charges_autogluon/medium_quality'}"
      ]
     },
     "metadata": {},
     "output_type": "display_data"
    },
    {
     "name": "stderr",
     "output_type": "stream",
     "text": [
      "Verbosity: 2 (Standard Logging)\n",
      "=================== System Info ===================\n",
      "AutoGluon Version:  1.2\n",
      "Python Version:     3.12.9\n",
      "Operating System:   Darwin\n",
      "Platform Machine:   arm64\n",
      "Platform Version:   Darwin Kernel Version 24.3.0: Thu Jan  2 20:24:06 PST 2025; root:xnu-11215.81.4~3/RELEASE_ARM64_T8103\n",
      "CPU Count:          8\n",
      "Memory Avail:       1.35 GB / 8.00 GB (16.9%)\n",
      "Disk Space Avail:   69.21 GB / 228.27 GB (30.3%)\n",
      "===================================================\n",
      "Presets specified: ['medium_quality']\n",
      "Enforcing custom memory (soft) limit of 8 GB!\n",
      "Beginning AutoGluon training ... Time limit = 600s\n",
      "AutoGluon will save models to \"/Users/delfosg/Documents/aoutgluon-mlflow-integration/charges_autogluon/medium_quality/full_predictor\"\n",
      "Train Data Rows:    1003\n",
      "Train Data Columns: 6\n",
      "Label Column:       charges\n",
      "Problem Type:       regression\n",
      "Preprocessing data ...\n",
      "Using Feature Generators to preprocess the data ...\n",
      "Fitting AutoMLPipelineFeatureGenerator...\n",
      "\tAvailable Memory:                    8040.94 MB\n",
      "\tTrain Data (Original)  Memory Usage: 0.18 MB (0.0% of available memory)\n",
      "\tInferring data type of each feature based on column values. Set feature_metadata_in to manually specify special dtypes of the features.\n",
      "\tStage 1 Generators:\n",
      "\t\tFitting AsTypeFeatureGenerator...\n",
      "\t\t\tNote: Converting 2 features to boolean dtype as they only contain 2 unique values.\n",
      "\tStage 2 Generators:\n",
      "\t\tFitting FillNaFeatureGenerator...\n",
      "\tStage 3 Generators:\n",
      "\t\tFitting IdentityFeatureGenerator...\n",
      "\t\tFitting CategoryFeatureGenerator...\n",
      "\t\t\tFitting CategoryMemoryMinimizeFeatureGenerator...\n",
      "\tStage 4 Generators:\n",
      "\t\tFitting DropUniqueFeatureGenerator...\n",
      "\tStage 5 Generators:\n",
      "\t\tFitting DropDuplicatesFeatureGenerator...\n",
      "\tTypes of features in original data (raw dtype, special dtypes):\n",
      "\t\t('float', [])  : 1 | ['bmi']\n",
      "\t\t('int', [])    : 2 | ['age', 'children']\n",
      "\t\t('object', []) : 3 | ['sex', 'smoker', 'region']\n",
      "\tTypes of features in processed data (raw dtype, special dtypes):\n",
      "\t\t('category', [])  : 1 | ['region']\n",
      "\t\t('float', [])     : 1 | ['bmi']\n",
      "\t\t('int', [])       : 2 | ['age', 'children']\n",
      "\t\t('int', ['bool']) : 2 | ['sex', 'smoker']\n",
      "\t0.0s = Fit runtime\n",
      "\t6 features in original data used to generate 6 features in processed data.\n",
      "\tTrain Data (Processed) Memory Usage: 0.03 MB (0.0% of available memory)\n",
      "Data preprocessing and feature engineering runtime = 0.05s ...\n",
      "AutoGluon will gauge predictive performance using evaluation metric: 'root_mean_squared_error'\n",
      "\tThis metric's sign has been flipped to adhere to being higher_is_better. The metric score can be multiplied by -1 to get the metric value.\n",
      "\tTo change this, specify the eval_metric parameter of Predictor()\n",
      "Automatically generating train/validation split with holdout_frac=0.15, Train Rows: 852, Val Rows: 151\n",
      "User-specified model hyperparameters to be fit:\n",
      "{\n",
      "\t'NN_TORCH': [{}],\n",
      "\t'GBM': [{'extra_trees': True, 'ag_args': {'name_suffix': 'XT'}}, {}, {'learning_rate': 0.03, 'num_leaves': 128, 'feature_fraction': 0.9, 'min_data_in_leaf': 3, 'ag_args': {'name_suffix': 'Large', 'priority': 0, 'hyperparameter_tune_kwargs': None}}],\n",
      "\t'CAT': [{}],\n",
      "\t'XGB': [{}],\n",
      "\t'FASTAI': [{}],\n",
      "\t'RF': [{'criterion': 'gini', 'ag_args': {'name_suffix': 'Gini', 'problem_types': ['binary', 'multiclass']}}, {'criterion': 'entropy', 'ag_args': {'name_suffix': 'Entr', 'problem_types': ['binary', 'multiclass']}}, {'criterion': 'squared_error', 'ag_args': {'name_suffix': 'MSE', 'problem_types': ['regression', 'quantile']}}],\n",
      "\t'XT': [{'criterion': 'gini', 'ag_args': {'name_suffix': 'Gini', 'problem_types': ['binary', 'multiclass']}}, {'criterion': 'entropy', 'ag_args': {'name_suffix': 'Entr', 'problem_types': ['binary', 'multiclass']}}, {'criterion': 'squared_error', 'ag_args': {'name_suffix': 'MSE', 'problem_types': ['regression', 'quantile']}}],\n",
      "\t'KNN': [{'weights': 'uniform', 'ag_args': {'name_suffix': 'Unif'}}, {'weights': 'distance', 'ag_args': {'name_suffix': 'Dist'}}],\n",
      "}\n",
      "Fitting 11 L1 models, fit_strategy=\"sequential\" ...\n",
      "Fitting model: KNeighborsUnif ... Training model for up to 599.95s of the 599.95s of remaining time.\n",
      "\t-11895.6376\t = Validation score   (-root_mean_squared_error)\n",
      "\t4.02s\t = Training   runtime\n",
      "\t0.04s\t = Validation runtime\n",
      "Fitting model: KNeighborsDist ... Training model for up to 595.89s of the 595.88s of remaining time.\n",
      "\t-12498.5711\t = Validation score   (-root_mean_squared_error)\n",
      "\t0.01s\t = Training   runtime\n",
      "\t0.01s\t = Validation runtime\n",
      "Fitting model: LightGBMXT ... Training model for up to 595.86s of the 595.86s of remaining time.\n",
      "\t-5633.7749\t = Validation score   (-root_mean_squared_error)\n",
      "\t0.68s\t = Training   runtime\n",
      "\t0.0s\t = Validation runtime\n",
      "Fitting model: LightGBM ... Training model for up to 595.18s of the 595.17s of remaining time.\n",
      "\t-5565.4054\t = Validation score   (-root_mean_squared_error)\n",
      "\t0.41s\t = Training   runtime\n",
      "\t0.0s\t = Validation runtime\n",
      "Fitting model: RandomForestMSE ... Training model for up to 594.76s of the 594.76s of remaining time.\n",
      "\t-5777.5451\t = Validation score   (-root_mean_squared_error)\n",
      "\t2.04s\t = Training   runtime\n",
      "\t0.02s\t = Validation runtime\n",
      "Fitting model: CatBoost ... Training model for up to 592.62s of the 592.62s of remaining time.\n",
      "\t-5536.1352\t = Validation score   (-root_mean_squared_error)\n",
      "\t1.05s\t = Training   runtime\n",
      "\t0.0s\t = Validation runtime\n",
      "Fitting model: ExtraTreesMSE ... Training model for up to 591.57s of the 591.57s of remaining time.\n",
      "\t-5846.1946\t = Validation score   (-root_mean_squared_error)\n",
      "\t0.19s\t = Training   runtime\n",
      "\t0.03s\t = Validation runtime\n",
      "Fitting model: NeuralNetFastAI ... Training model for up to 591.33s of the 591.33s of remaining time.\n",
      "No improvement since epoch 9: early stopping\n",
      "\t-5757.1514\t = Validation score   (-root_mean_squared_error)\n",
      "\t0.79s\t = Training   runtime\n",
      "\t0.0s\t = Validation runtime\n",
      "Fitting model: XGBoost ... Training model for up to 590.53s of the 590.53s of remaining time.\n",
      "\t-5741.9519\t = Validation score   (-root_mean_squared_error)\n",
      "\t0.49s\t = Training   runtime\n",
      "\t0.0s\t = Validation runtime\n",
      "Fitting model: NeuralNetTorch ... Training model for up to 590.03s of the 590.03s of remaining time.\n",
      "\t-5547.7194\t = Validation score   (-root_mean_squared_error)\n",
      "\t10.57s\t = Training   runtime\n",
      "\t0.01s\t = Validation runtime\n",
      "Fitting model: LightGBMLarge ... Training model for up to 579.44s of the 579.44s of remaining time.\n",
      "\t-6171.7101\t = Validation score   (-root_mean_squared_error)\n",
      "\t1.91s\t = Training   runtime\n",
      "\t0.0s\t = Validation runtime\n",
      "Fitting model: WeightedEnsemble_L2 ... Training model for up to 360.00s of the 577.51s of remaining time.\n",
      "\tEnsemble Weights: {'LightGBM': 0.44, 'NeuralNetTorch': 0.44, 'NeuralNetFastAI': 0.08, 'CatBoost': 0.04}\n",
      "\t-5457.4344\t = Validation score   (-root_mean_squared_error)\n",
      "\t0.0s\t = Training   runtime\n",
      "\t0.0s\t = Validation runtime\n",
      "AutoGluon training complete, total runtime = 22.51s ... Best model: WeightedEnsemble_L2 | Estimated inference throughput: 12743.0 rows/s (151 batch size)\n",
      "TabularPredictor saved. To load, use: predictor = TabularPredictor.load(\"/Users/delfosg/Documents/aoutgluon-mlflow-integration/charges_autogluon/medium_quality/full_predictor\")\n"
     ]
    },
    {
     "name": "stdout",
     "output_type": "stream",
     "text": [
      "Autogluon trained\n"
     ]
    }
   ],
   "source": [
    "display(init_values)\n",
    "\n",
    "from autogluon.tabular import TabularPredictor\n",
    "\n",
    "if input('Do you want to run Autogluon? (y/n)') == 'y':\n",
    "    # Autogluon\n",
    "    predictor = TabularPredictor(problem_type='regression',\n",
    "                                 label = target_var,\n",
    "                                 eval_metric = 'rmse',\n",
    "                                 path = autogluon_path + '/full_predictor'\n",
    "                                 )\n",
    "    predictor = predictor.fit(train_data = train_df,\n",
    "                              presets = preset_mode,\n",
    "                              holdout_frac = 0.15,\n",
    "                              time_limit = time_limit,\n",
    "                              memory_limit = 8)\n",
    "    print('Autogluon trained')\n",
    "else:\n",
    "    print('Autogluon not trained')"
   ]
  },
  {
   "cell_type": "code",
   "execution_count": 27,
   "metadata": {},
   "outputs": [
    {
     "name": "stdout",
     "output_type": "stream",
     "text": [
      "The existing experiment charges_medium_quality_experiment has been set up successfully\n"
     ]
    },
    {
     "data": {
      "text/plain": [
       "<Experiment: artifact_location='file:///Users/delfosg/Documents/aoutgluon-mlflow-integration/mlruns/877994864440623537', creation_time=1745811106702, experiment_id='877994864440623537', last_update_time=1745811106702, lifecycle_stage='active', name='charges_medium_quality_experiment', tags={}>"
      ]
     },
     "execution_count": 27,
     "metadata": {},
     "output_type": "execute_result"
    }
   ],
   "source": [
    "experiment_path = 'experiements/'\n",
    "experiment_name = f'{target_var}_{preset_mode}_experiment'\n",
    "experiment_id = hmf.get_experiment(experiment_name, experiment_path)\n",
    "mlflow.set_experiment(experiment_name)"
   ]
  },
  {
   "cell_type": "code",
   "execution_count": null,
   "metadata": {},
   "outputs": [
    {
     "name": "stderr",
     "output_type": "stream",
     "text": [
      "/Users/delfosg/Documents/aoutgluon-mlflow-integration/venv/lib/python3.12/site-packages/fastai/learner.py:455: UserWarning: load_learner` uses Python's insecure pickle module, which can execute malicious arbitrary code when loading. Only load files you trust.\n",
      "If you only need to load model weights and optimizer state, use the safe `Learner.load` instead.\n",
      "  warn(\"load_learner` uses Python's insecure pickle module, which can execute malicious arbitrary code when loading. Only load files you trust.\\nIf you only need to load model weights and optimizer state, use the safe `Learner.load` instead.\")\n",
      "/Users/delfosg/Documents/aoutgluon-mlflow-integration/venv/lib/python3.12/site-packages/fastai/learner.py:455: UserWarning: load_learner` uses Python's insecure pickle module, which can execute malicious arbitrary code when loading. Only load files you trust.\n",
      "If you only need to load model weights and optimizer state, use the safe `Learner.load` instead.\n",
      "  warn(\"load_learner` uses Python's insecure pickle module, which can execute malicious arbitrary code when loading. Only load files you trust.\\nIf you only need to load model weights and optimizer state, use the safe `Learner.load` instead.\")\n",
      "/Users/delfosg/Documents/aoutgluon-mlflow-integration/venv/lib/python3.12/site-packages/fastai/learner.py:455: UserWarning: load_learner` uses Python's insecure pickle module, which can execute malicious arbitrary code when loading. Only load files you trust.\n",
      "If you only need to load model weights and optimizer state, use the safe `Learner.load` instead.\n",
      "  warn(\"load_learner` uses Python's insecure pickle module, which can execute malicious arbitrary code when loading. Only load files you trust.\\nIf you only need to load model weights and optimizer state, use the safe `Learner.load` instead.\")\n",
      "/Users/delfosg/Documents/aoutgluon-mlflow-integration/venv/lib/python3.12/site-packages/fastai/learner.py:455: UserWarning: load_learner` uses Python's insecure pickle module, which can execute malicious arbitrary code when loading. Only load files you trust.\n",
      "If you only need to load model weights and optimizer state, use the safe `Learner.load` instead.\n",
      "  warn(\"load_learner` uses Python's insecure pickle module, which can execute malicious arbitrary code when loading. Only load files you trust.\\nIf you only need to load model weights and optimizer state, use the safe `Learner.load` instead.\")\n",
      "Cloned TabularPredictor located in '/Users/delfosg/Documents/aoutgluon-mlflow-integration/charges_autogluon/medium_quality/full_predictor' to './charges_autogluon/medium_quality/deployment_clones/RandomForestMSE'.\n",
      "\tTo load the cloned predictor: predictor_clone = TabularPredictor.load(path=\"./charges_autogluon/medium_quality/deployment_clones/RandomForestMSE\")\n",
      "Deleting model KNeighborsUnif. All files under /Users/delfosg/Documents/aoutgluon-mlflow-integration/charges_autogluon/medium_quality/deployment_clones/RandomForestMSE/models/KNeighborsUnif will be removed.\n",
      "Deleting model KNeighborsDist. All files under /Users/delfosg/Documents/aoutgluon-mlflow-integration/charges_autogluon/medium_quality/deployment_clones/RandomForestMSE/models/KNeighborsDist will be removed.\n",
      "Deleting model LightGBMXT. All files under /Users/delfosg/Documents/aoutgluon-mlflow-integration/charges_autogluon/medium_quality/deployment_clones/RandomForestMSE/models/LightGBMXT will be removed.\n",
      "Deleting model LightGBM. All files under /Users/delfosg/Documents/aoutgluon-mlflow-integration/charges_autogluon/medium_quality/deployment_clones/RandomForestMSE/models/LightGBM will be removed.\n",
      "Deleting model CatBoost. All files under /Users/delfosg/Documents/aoutgluon-mlflow-integration/charges_autogluon/medium_quality/deployment_clones/RandomForestMSE/models/CatBoost will be removed.\n",
      "Deleting model ExtraTreesMSE. All files under /Users/delfosg/Documents/aoutgluon-mlflow-integration/charges_autogluon/medium_quality/deployment_clones/RandomForestMSE/models/ExtraTreesMSE will be removed.\n",
      "/Users/delfosg/Documents/aoutgluon-mlflow-integration/venv/lib/python3.12/site-packages/fastai/learner.py:455: UserWarning: load_learner` uses Python's insecure pickle module, which can execute malicious arbitrary code when loading. Only load files you trust.\n",
      "If you only need to load model weights and optimizer state, use the safe `Learner.load` instead.\n",
      "  warn(\"load_learner` uses Python's insecure pickle module, which can execute malicious arbitrary code when loading. Only load files you trust.\\nIf you only need to load model weights and optimizer state, use the safe `Learner.load` instead.\")\n",
      "Deleting model NeuralNetFastAI. All files under /Users/delfosg/Documents/aoutgluon-mlflow-integration/charges_autogluon/medium_quality/deployment_clones/RandomForestMSE/models/NeuralNetFastAI will be removed.\n",
      "Deleting model XGBoost. All files under /Users/delfosg/Documents/aoutgluon-mlflow-integration/charges_autogluon/medium_quality/deployment_clones/RandomForestMSE/models/XGBoost will be removed.\n",
      "Deleting model NeuralNetTorch. All files under /Users/delfosg/Documents/aoutgluon-mlflow-integration/charges_autogluon/medium_quality/deployment_clones/RandomForestMSE/models/NeuralNetTorch will be removed.\n",
      "Deleting model LightGBMLarge. All files under /Users/delfosg/Documents/aoutgluon-mlflow-integration/charges_autogluon/medium_quality/deployment_clones/RandomForestMSE/models/LightGBMLarge will be removed.\n",
      "Deleting model WeightedEnsemble_L2. All files under /Users/delfosg/Documents/aoutgluon-mlflow-integration/charges_autogluon/medium_quality/deployment_clones/RandomForestMSE/models/WeightedEnsemble_L2 will be removed.\n"
     ]
    },
    {
     "name": "stdout",
     "output_type": "stream",
     "text": [
      "Selected Model: RandomForestMSE\n"
     ]
    },
    {
     "name": "stderr",
     "output_type": "stream",
     "text": [
      "/Users/delfosg/Documents/aoutgluon-mlflow-integration/venv/lib/python3.12/site-packages/mlflow/types/utils.py:452: UserWarning: Hint: Inferred schema contains integer column(s). Integer columns in Python cannot represent missing values. If your input data contains missing values at inference time, it will be encoded as floats and will cause a schema enforcement error. The best way to avoid this problem is to infer the model schema based on a realistic data sample (training dataset) that includes missing values. Alternatively, you can declare integer columns as doubles (float64) whenever these columns may have missing values. See `Handling Integers With Missing Values <https://www.mlflow.org/docs/latest/models.html#handling-integers-with-missing-values>`_ for more details.\n",
      "  warnings.warn(\n",
      "/Users/delfosg/Documents/aoutgluon-mlflow-integration/venv/lib/python3.12/site-packages/mlflow/pyfunc/__init__.py:3224: UserWarning: \u001b[1;33mAn input example was not provided when logging the model. To ensure the model signature functions correctly, specify the `input_example` parameter. See https://mlflow.org/docs/latest/model/signatures.html#model-input-example for more details about the benefits of using input_example.\u001b[0m\n",
      "  color_warning(\n",
      "Cloned TabularPredictor located in '/Users/delfosg/Documents/aoutgluon-mlflow-integration/charges_autogluon/medium_quality/full_predictor' to './charges_autogluon/medium_quality/deployment_clones/ExtraTreesMSE'.\n",
      "\tTo load the cloned predictor: predictor_clone = TabularPredictor.load(path=\"./charges_autogluon/medium_quality/deployment_clones/ExtraTreesMSE\")\n",
      "Deleting model KNeighborsUnif. All files under /Users/delfosg/Documents/aoutgluon-mlflow-integration/charges_autogluon/medium_quality/deployment_clones/ExtraTreesMSE/models/KNeighborsUnif will be removed.\n",
      "Deleting model KNeighborsDist. All files under /Users/delfosg/Documents/aoutgluon-mlflow-integration/charges_autogluon/medium_quality/deployment_clones/ExtraTreesMSE/models/KNeighborsDist will be removed.\n",
      "Deleting model LightGBMXT. All files under /Users/delfosg/Documents/aoutgluon-mlflow-integration/charges_autogluon/medium_quality/deployment_clones/ExtraTreesMSE/models/LightGBMXT will be removed.\n",
      "Deleting model LightGBM. All files under /Users/delfosg/Documents/aoutgluon-mlflow-integration/charges_autogluon/medium_quality/deployment_clones/ExtraTreesMSE/models/LightGBM will be removed.\n",
      "Deleting model RandomForestMSE. All files under /Users/delfosg/Documents/aoutgluon-mlflow-integration/charges_autogluon/medium_quality/deployment_clones/ExtraTreesMSE/models/RandomForestMSE will be removed.\n",
      "Deleting model CatBoost. All files under /Users/delfosg/Documents/aoutgluon-mlflow-integration/charges_autogluon/medium_quality/deployment_clones/ExtraTreesMSE/models/CatBoost will be removed.\n",
      "/Users/delfosg/Documents/aoutgluon-mlflow-integration/venv/lib/python3.12/site-packages/fastai/learner.py:455: UserWarning: load_learner` uses Python's insecure pickle module, which can execute malicious arbitrary code when loading. Only load files you trust.\n",
      "If you only need to load model weights and optimizer state, use the safe `Learner.load` instead.\n",
      "  warn(\"load_learner` uses Python's insecure pickle module, which can execute malicious arbitrary code when loading. Only load files you trust.\\nIf you only need to load model weights and optimizer state, use the safe `Learner.load` instead.\")\n",
      "Deleting model NeuralNetFastAI. All files under /Users/delfosg/Documents/aoutgluon-mlflow-integration/charges_autogluon/medium_quality/deployment_clones/ExtraTreesMSE/models/NeuralNetFastAI will be removed.\n",
      "Deleting model XGBoost. All files under /Users/delfosg/Documents/aoutgluon-mlflow-integration/charges_autogluon/medium_quality/deployment_clones/ExtraTreesMSE/models/XGBoost will be removed.\n",
      "Deleting model NeuralNetTorch. All files under /Users/delfosg/Documents/aoutgluon-mlflow-integration/charges_autogluon/medium_quality/deployment_clones/ExtraTreesMSE/models/NeuralNetTorch will be removed.\n",
      "Deleting model LightGBMLarge. All files under /Users/delfosg/Documents/aoutgluon-mlflow-integration/charges_autogluon/medium_quality/deployment_clones/ExtraTreesMSE/models/LightGBMLarge will be removed.\n",
      "Deleting model WeightedEnsemble_L2. All files under /Users/delfosg/Documents/aoutgluon-mlflow-integration/charges_autogluon/medium_quality/deployment_clones/ExtraTreesMSE/models/WeightedEnsemble_L2 will be removed.\n"
     ]
    },
    {
     "name": "stdout",
     "output_type": "stream",
     "text": [
      "Selected Model: ExtraTreesMSE\n"
     ]
    },
    {
     "name": "stderr",
     "output_type": "stream",
     "text": [
      "/Users/delfosg/Documents/aoutgluon-mlflow-integration/venv/lib/python3.12/site-packages/mlflow/types/utils.py:452: UserWarning: Hint: Inferred schema contains integer column(s). Integer columns in Python cannot represent missing values. If your input data contains missing values at inference time, it will be encoded as floats and will cause a schema enforcement error. The best way to avoid this problem is to infer the model schema based on a realistic data sample (training dataset) that includes missing values. Alternatively, you can declare integer columns as doubles (float64) whenever these columns may have missing values. See `Handling Integers With Missing Values <https://www.mlflow.org/docs/latest/models.html#handling-integers-with-missing-values>`_ for more details.\n",
      "  warnings.warn(\n",
      "/Users/delfosg/Documents/aoutgluon-mlflow-integration/venv/lib/python3.12/site-packages/mlflow/pyfunc/__init__.py:3224: UserWarning: \u001b[1;33mAn input example was not provided when logging the model. To ensure the model signature functions correctly, specify the `input_example` parameter. See https://mlflow.org/docs/latest/model/signatures.html#model-input-example for more details about the benefits of using input_example.\u001b[0m\n",
      "  color_warning(\n",
      "Cloned TabularPredictor located in '/Users/delfosg/Documents/aoutgluon-mlflow-integration/charges_autogluon/medium_quality/full_predictor' to './charges_autogluon/medium_quality/deployment_clones/LightGBMLarge'.\n",
      "\tTo load the cloned predictor: predictor_clone = TabularPredictor.load(path=\"./charges_autogluon/medium_quality/deployment_clones/LightGBMLarge\")\n",
      "Deleting model KNeighborsUnif. All files under /Users/delfosg/Documents/aoutgluon-mlflow-integration/charges_autogluon/medium_quality/deployment_clones/LightGBMLarge/models/KNeighborsUnif will be removed.\n",
      "Deleting model KNeighborsDist. All files under /Users/delfosg/Documents/aoutgluon-mlflow-integration/charges_autogluon/medium_quality/deployment_clones/LightGBMLarge/models/KNeighborsDist will be removed.\n",
      "Deleting model LightGBMXT. All files under /Users/delfosg/Documents/aoutgluon-mlflow-integration/charges_autogluon/medium_quality/deployment_clones/LightGBMLarge/models/LightGBMXT will be removed.\n",
      "Deleting model LightGBM. All files under /Users/delfosg/Documents/aoutgluon-mlflow-integration/charges_autogluon/medium_quality/deployment_clones/LightGBMLarge/models/LightGBM will be removed.\n",
      "Deleting model RandomForestMSE. All files under /Users/delfosg/Documents/aoutgluon-mlflow-integration/charges_autogluon/medium_quality/deployment_clones/LightGBMLarge/models/RandomForestMSE will be removed.\n",
      "Deleting model CatBoost. All files under /Users/delfosg/Documents/aoutgluon-mlflow-integration/charges_autogluon/medium_quality/deployment_clones/LightGBMLarge/models/CatBoost will be removed.\n",
      "Deleting model ExtraTreesMSE. All files under /Users/delfosg/Documents/aoutgluon-mlflow-integration/charges_autogluon/medium_quality/deployment_clones/LightGBMLarge/models/ExtraTreesMSE will be removed.\n",
      "/Users/delfosg/Documents/aoutgluon-mlflow-integration/venv/lib/python3.12/site-packages/fastai/learner.py:455: UserWarning: load_learner` uses Python's insecure pickle module, which can execute malicious arbitrary code when loading. Only load files you trust.\n",
      "If you only need to load model weights and optimizer state, use the safe `Learner.load` instead.\n",
      "  warn(\"load_learner` uses Python's insecure pickle module, which can execute malicious arbitrary code when loading. Only load files you trust.\\nIf you only need to load model weights and optimizer state, use the safe `Learner.load` instead.\")\n",
      "Deleting model NeuralNetFastAI. All files under /Users/delfosg/Documents/aoutgluon-mlflow-integration/charges_autogluon/medium_quality/deployment_clones/LightGBMLarge/models/NeuralNetFastAI will be removed.\n",
      "Deleting model XGBoost. All files under /Users/delfosg/Documents/aoutgluon-mlflow-integration/charges_autogluon/medium_quality/deployment_clones/LightGBMLarge/models/XGBoost will be removed.\n",
      "Deleting model NeuralNetTorch. All files under /Users/delfosg/Documents/aoutgluon-mlflow-integration/charges_autogluon/medium_quality/deployment_clones/LightGBMLarge/models/NeuralNetTorch will be removed.\n"
     ]
    },
    {
     "name": "stdout",
     "output_type": "stream",
     "text": [
      "Selected Model: LightGBMLarge\n"
     ]
    },
    {
     "name": "stderr",
     "output_type": "stream",
     "text": [
      "Deleting model WeightedEnsemble_L2. All files under /Users/delfosg/Documents/aoutgluon-mlflow-integration/charges_autogluon/medium_quality/deployment_clones/LightGBMLarge/models/WeightedEnsemble_L2 will be removed.\n",
      "/Users/delfosg/Documents/aoutgluon-mlflow-integration/venv/lib/python3.12/site-packages/mlflow/types/utils.py:452: UserWarning: Hint: Inferred schema contains integer column(s). Integer columns in Python cannot represent missing values. If your input data contains missing values at inference time, it will be encoded as floats and will cause a schema enforcement error. The best way to avoid this problem is to infer the model schema based on a realistic data sample (training dataset) that includes missing values. Alternatively, you can declare integer columns as doubles (float64) whenever these columns may have missing values. See `Handling Integers With Missing Values <https://www.mlflow.org/docs/latest/models.html#handling-integers-with-missing-values>`_ for more details.\n",
      "  warnings.warn(\n",
      "/Users/delfosg/Documents/aoutgluon-mlflow-integration/venv/lib/python3.12/site-packages/mlflow/pyfunc/__init__.py:3224: UserWarning: \u001b[1;33mAn input example was not provided when logging the model. To ensure the model signature functions correctly, specify the `input_example` parameter. See https://mlflow.org/docs/latest/model/signatures.html#model-input-example for more details about the benefits of using input_example.\u001b[0m\n",
      "  color_warning(\n",
      "Cloned TabularPredictor located in '/Users/delfosg/Documents/aoutgluon-mlflow-integration/charges_autogluon/medium_quality/full_predictor' to './charges_autogluon/medium_quality/deployment_clones/XGBoost'.\n",
      "\tTo load the cloned predictor: predictor_clone = TabularPredictor.load(path=\"./charges_autogluon/medium_quality/deployment_clones/XGBoost\")\n",
      "Deleting model KNeighborsUnif. All files under /Users/delfosg/Documents/aoutgluon-mlflow-integration/charges_autogluon/medium_quality/deployment_clones/XGBoost/models/KNeighborsUnif will be removed.\n",
      "Deleting model KNeighborsDist. All files under /Users/delfosg/Documents/aoutgluon-mlflow-integration/charges_autogluon/medium_quality/deployment_clones/XGBoost/models/KNeighborsDist will be removed.\n",
      "Deleting model LightGBMXT. All files under /Users/delfosg/Documents/aoutgluon-mlflow-integration/charges_autogluon/medium_quality/deployment_clones/XGBoost/models/LightGBMXT will be removed.\n",
      "Deleting model LightGBM. All files under /Users/delfosg/Documents/aoutgluon-mlflow-integration/charges_autogluon/medium_quality/deployment_clones/XGBoost/models/LightGBM will be removed.\n",
      "Deleting model RandomForestMSE. All files under /Users/delfosg/Documents/aoutgluon-mlflow-integration/charges_autogluon/medium_quality/deployment_clones/XGBoost/models/RandomForestMSE will be removed.\n",
      "Deleting model CatBoost. All files under /Users/delfosg/Documents/aoutgluon-mlflow-integration/charges_autogluon/medium_quality/deployment_clones/XGBoost/models/CatBoost will be removed.\n",
      "Deleting model ExtraTreesMSE. All files under /Users/delfosg/Documents/aoutgluon-mlflow-integration/charges_autogluon/medium_quality/deployment_clones/XGBoost/models/ExtraTreesMSE will be removed.\n"
     ]
    },
    {
     "name": "stdout",
     "output_type": "stream",
     "text": [
      "Selected Model: XGBoost\n"
     ]
    },
    {
     "name": "stderr",
     "output_type": "stream",
     "text": [
      "/Users/delfosg/Documents/aoutgluon-mlflow-integration/venv/lib/python3.12/site-packages/fastai/learner.py:455: UserWarning: load_learner` uses Python's insecure pickle module, which can execute malicious arbitrary code when loading. Only load files you trust.\n",
      "If you only need to load model weights and optimizer state, use the safe `Learner.load` instead.\n",
      "  warn(\"load_learner` uses Python's insecure pickle module, which can execute malicious arbitrary code when loading. Only load files you trust.\\nIf you only need to load model weights and optimizer state, use the safe `Learner.load` instead.\")\n",
      "Deleting model NeuralNetFastAI. All files under /Users/delfosg/Documents/aoutgluon-mlflow-integration/charges_autogluon/medium_quality/deployment_clones/XGBoost/models/NeuralNetFastAI will be removed.\n",
      "Deleting model NeuralNetTorch. All files under /Users/delfosg/Documents/aoutgluon-mlflow-integration/charges_autogluon/medium_quality/deployment_clones/XGBoost/models/NeuralNetTorch will be removed.\n",
      "Deleting model LightGBMLarge. All files under /Users/delfosg/Documents/aoutgluon-mlflow-integration/charges_autogluon/medium_quality/deployment_clones/XGBoost/models/LightGBMLarge will be removed.\n",
      "Deleting model WeightedEnsemble_L2. All files under /Users/delfosg/Documents/aoutgluon-mlflow-integration/charges_autogluon/medium_quality/deployment_clones/XGBoost/models/WeightedEnsemble_L2 will be removed.\n",
      "/Users/delfosg/Documents/aoutgluon-mlflow-integration/venv/lib/python3.12/site-packages/mlflow/types/utils.py:452: UserWarning: Hint: Inferred schema contains integer column(s). Integer columns in Python cannot represent missing values. If your input data contains missing values at inference time, it will be encoded as floats and will cause a schema enforcement error. The best way to avoid this problem is to infer the model schema based on a realistic data sample (training dataset) that includes missing values. Alternatively, you can declare integer columns as doubles (float64) whenever these columns may have missing values. See `Handling Integers With Missing Values <https://www.mlflow.org/docs/latest/models.html#handling-integers-with-missing-values>`_ for more details.\n",
      "  warnings.warn(\n",
      "/Users/delfosg/Documents/aoutgluon-mlflow-integration/venv/lib/python3.12/site-packages/mlflow/pyfunc/__init__.py:3224: UserWarning: \u001b[1;33mAn input example was not provided when logging the model. To ensure the model signature functions correctly, specify the `input_example` parameter. See https://mlflow.org/docs/latest/model/signatures.html#model-input-example for more details about the benefits of using input_example.\u001b[0m\n",
      "  color_warning(\n"
     ]
    }
   ],
   "source": [
    "import time\n",
    "start_time = time.time() \n",
    "\n",
    "#autogluon_loading\n",
    "full_predictor = TabularPredictor.load(autogluon_path + '/full_predictor')\n",
    "\n",
    "leaderboar_train = full_predictor.leaderboard(data=train_df, extra_info=True)\n",
    "leaderboar_test  = full_predictor.leaderboard(data=test_df, extra_info=True)\n",
    "\n",
    "top_n = 3\n",
    "for selected_model in leaderboar_train.loc[:top_n, 'model']:\n",
    "    print(f\"Selected Model: {selected_model}\")\n",
    "    \n",
    "    # create deployment predictor\n",
    "    deployment_predictor = full_predictor.clone(path = f'{autogluon_path}/deployment_clones/{selected_model}',\n",
    "                                               return_clone = True,\n",
    "                                               dirs_exist_ok=True)\n",
    "    deployment_predictor.set_model_best(model=selected_model,\n",
    "                                        save_trainer=True)\n",
    "    deployment_predictor.delete_models(models_to_keep=selected_model,\n",
    "                                       dry_run=False)\n",
    "    deployment_predictor.save_space()\n",
    "    \n",
    "    model_to_load = AutogluonWrapper(predictor=deployment_predictor,\n",
    "                                     feature_names=x_test.columns,\n",
    "                                     model_name = selected_model)\n",
    "    \n",
    "    \n",
    "    \n",
    "    #  start mlflow run\n",
    "    with mlflow.start_run(description=f'{selected_model}_{preset_mode}'):\n",
    "        \n",
    "        signature = mlflow.models.infer_signature(x_test, y_test)\n",
    "        \n",
    "        mlflow.pyfunc.log_model(artifact_path=\"model\",\n",
    "                                python_model=model_to_load,\n",
    "                                signature=signature)\n",
    "        \n",
    "        # log model type\n",
    "        spec = model_to_load.ag_model._trainer.load_model(selected_model)\n",
    "        info = spec.get_info()\n",
    "        hmf.pop_all_ocurrences(info, 'feature_metadata')\n",
    "        mlflow.log_param('model_type', info['model_type'])\n",
    "        # log extra info\n",
    "        mlflow.log_param('features', info['features'])\n",
    "        mlflow.log_param('pred_time_test', leaderboar_test.loc[leaderboar_test['model'] == selected_model, 'pred_time_test'].values[0])\n",
    "        mlflow.log_param('test_size', test_df.shape[0])\n",
    "        # log hyperparameters\n",
    "        hyperparameters = info['hyperparameters']\n",
    "        hyperparameters.update(info['hyperparameters_fit'])\n",
    "        #log features\n",
    "        mlflow.log_params({'model_input': info['features']})\n",
    "        \n",
    "        # if staker or bagged ensemble\n",
    "        if info['model_type'] == 'WeightedEnsembleModel':\n",
    "            #log weights\n",
    "            mlflow.log_params({'Model_Weights_Ensamble': info['children_info']['S1F1']['model_weights']})\n",
    "            mlflow.log_params({'Child_Model_Types_Bagging': info['bagged_info']['child_model_type']})\n",
    "            mlflow.log_params({'Num_Child_Models_Bagging': info['bagged_info']['num_child_models']})\n",
    "        elif info['model_type'] == 'StackerEnsembleModel':\n",
    "            #log weights\n",
    "            mlflow.log_params({'Model_Types_Bagging': info['bagged_info']['child_model_type']})\n",
    "            mlflow.log_params({'Num_Child_Models_Stacking': info['bagged_info']['num_child_models']})\n",
    "            # log hyperparameters  of model on top layer\n",
    "            if info['bagged_info']['num:child_models'] == 1:\n",
    "                hyperparams_child = info['children_info']['S1F1']['hyperparameters']\n",
    "                mlflow.log_params({'Hyperparameters_Child_Model': hyperparams_child})\n",
    "            mlflow.log_params({'Stacker_Info_Models_Beneath' : info['stacker_info']})\n",
    "        else:\n",
    "            mlflow.log_params({'Hyperparameters': hyperparameters})\n",
    "            \n",
    "    \n",
    "        #log datasets\n",
    "        mlflow.log_input(dataset_train, 'Train')\n",
    "        mlflow.log_input(dataset_test, 'Test')\n",
    "        \n",
    "        # metrics (test)\n",
    "        y_test_pred = model_to_load.predict(x_test)\n",
    "        result_test, mse, rmse, mae, r2 = hmf.evaluate_model(y_test, y_test_pred)\n",
    "        mlflow.log_metric('rmse_test', rmse)\n",
    "        mlflow.log_metric('mse_test', mse)\n",
    "        mlflow.log_metric('mae_test', mae)\n",
    "        mlflow.log_metric('r2_test', r2)\n",
    "        \n",
    "        # metrics (train)\n",
    "        y_train_pred = model_to_load.predict(x_train)\n",
    "        result_train, mse, rmse, mae, r2 = hmf.evaluate_model(y_train, y_train_pred)\n",
    "        mlflow.log_metric('rmse_train', rmse)\n",
    "        mlflow.log_metric('mse_train', mse)\n",
    "        mlflow.log_metric('mae_train', mae)\n",
    "        mlflow.log_metric('r2_train', r2)\n",
    "        \n",
    "        # error plot\n",
    "        error_plot = hpf.get_error_plot(result_test)\n",
    "        mlflow.log_figure(figure=error_plot,\n",
    "                          artifact_file='error_plot_test.png')\n",
    "        error_plot = hpf.get_error_plot(result_train)\n",
    "        mlflow.log_figure(figure=error_plot,\n",
    "                          artifact_file='error_plot_train.png')"
   ]
  }
 ],
 "metadata": {
  "kernelspec": {
   "display_name": "venv",
   "language": "python",
   "name": "python3"
  },
  "language_info": {
   "codemirror_mode": {
    "name": "ipython",
    "version": 3
   },
   "file_extension": ".py",
   "mimetype": "text/x-python",
   "name": "python",
   "nbconvert_exporter": "python",
   "pygments_lexer": "ipython3",
   "version": "3.12.9"
  }
 },
 "nbformat": 4,
 "nbformat_minor": 2
}
