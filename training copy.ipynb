{
 "cells": [
  {
   "cell_type": "code",
   "execution_count": 1,
   "metadata": {},
   "outputs": [
    {
     "name": "stdout",
     "output_type": "stream",
     "text": []
    }
   ],
   "source": [
    "import pandas as pd\n",
    "import numpy as np\n",
    "import matplotlib.pyplot as plt\n",
    "import seaborn as sns\n",
    "import heler_functions as hf\n",
    "import importlib\n",
    "\n",
    "importlib.reload(hf)"
   ]
  },
  {
   "cell_type": "code",
   "execution_count": null,
   "metadata": {},
   "outputs": [],
   "source": [
    "deded"
   ]
  },
  {
   "cell_type": "code",
   "execution_count": null,
   "metadata": {},
   "outputs": [],
   "source": [
    "new stuffdede"
   ]
  },
  {
   "cell_type": "code",
   "execution_count": null,
   "metadata": {},
   "outputs": [],
   "source": [
    "new shit  swdsw"
   ]
  },
  {
   "cell_type": "code",
   "execution_count": null,
   "metadata": {},
   "outputs": [],
   "source": [
    "git de"
   ]
  },
  {
   "cell_type": "code",
   "execution_count": 2,
   "metadata": {},
   "outputs": [],
   "source": [
    "df = pd.read_csv('/Users/delfosg/Documents/kaggle_hoddie/data/train.csv')"
   ]
  },
  {
   "cell_type": "code",
   "execution_count": 3,
   "metadata": {},
   "outputs": [
    {
     "name": "stdout",
     "output_type": "stream",
     "text": []
    },
    {
     "name": "stdout",
     "output_type": "stream",
     "text": []
    }
   ],
   "source": [
    "# fix days annomalies\n",
    "fixed_df = hf.fix_day_sequence_with_month_year(df)\n",
    "\n",
    "fig, axes = plt.subplots(1, 2, figsize=(12, 4))\n",
    "\n",
    "df.day.value_counts().sort_index().plot(kind='line', title='Day Value Counts (Original)', xlabel='Day', ylabel='Count', ax=axes[0])\n",
    "axes[0].set_title('Day Value Counts (Original)')\n",
    "axes[0].set_xlabel('Day')\n",
    "axes[0].set_ylabel('Count')\n",
    "\n",
    "fixed_df.day.value_counts().sort_index().plot(kind='line', title='Day Value Counts (Fixed)', xlabel='Day', ylabel='Count', ax=axes[1])\n",
    "axes[1].set_title('Day Value Counts (Fixed)')\n",
    "axes[1].set_xlabel('Day')\n",
    "axes[1].set_ylabel('Count')\n",
    "\n",
    "plt.tight_layout()  # Adjust layout to make sure the labels and titles fit\n",
    "print('Original DF Shape:', df.shape)\n",
    "print('Fixed DF Shape:', fixed_df.shape)\n",
    "plt.show()"
   ]
  },
  {
   "cell_type": "code",
   "execution_count": 4,
   "metadata": {},
   "outputs": [
    {
     "name": "stdout",
     "output_type": "stream",
     "text": []
    }
   ],
   "source": [
    "# feature engineering\n",
    "featured_df = hf.feature_engineering(fixed_df)\n",
    "print('Original Column:', fixed_df.columns, '| Count:', len(fixed_df.columns))\n",
    "new_columns = featured_df.columns.difference(fixed_df.columns)\n",
    "print('New columns:', new_columns, '| Count:', len(new_columns))\n",
    "numerical_columns = featured_df.select_dtypes('number').columns\n",
    "categorical_columns = featured_df.select_dtypes('object').columns\n",
    "print('Numerical columns:', len(numerical_columns))\n",
    "print('Categorical columns:', len(categorical_columns))"
   ]
  },
  {
   "cell_type": "code",
   "execution_count": null,
   "metadata": {},
   "outputs": [],
   "source": [
    "my"
   ]
  },
  {
   "cell_type": "code",
   "execution_count": 5,
   "metadata": {},
   "outputs": [
    {
     "name": "stdout",
     "output_type": "stream",
     "text": []
    },
    {
     "name": "stdout",
     "output_type": "stream",
     "text": []
    }
   ],
   "source": [
    "hf.show_violin_box_target_plot(featured_df, numerical_columns, 'rainfall')"
   ]
  },
  {
   "cell_type": "code",
   "execution_count": 125,
   "metadata": {},
   "outputs": [
    {
     "name": "stdout",
     "output_type": "stream",
     "text": []
    }
   ],
   "source": [
    "plt.style.available"
   ]
  },
  {
   "cell_type": "code",
   "execution_count": null,
   "metadata": {},
   "outputs": [],
   "source": []
  }
 ],
 "metadata": {
  "kernelspec": {
   "display_name": "venv",
   "language": "python",
   "name": "python3"
  },
  "language_info": {
   "codemirror_mode": {
    "name": "ipython",
    "version": 3
   },
   "file_extension": ".py",
   "mimetype": "text/x-python",
   "name": "python",
   "nbconvert_exporter": "python",
   "pygments_lexer": "ipython3",
   "version": "3.13.2"
  }
 },
 "nbformat": 4,
 "nbformat_minor": 2
}
